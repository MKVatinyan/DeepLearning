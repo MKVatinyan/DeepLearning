{
 "cells": [
  {
   "cell_type": "code",
   "execution_count": 1,
   "metadata": {},
   "outputs": [],
   "source": [
    "from __future__ import print_function\n",
    "import torch\n",
    "import torchvision\n",
    "import torchvision.transforms as transforms\n",
    "import matplotlib.pyplot as plt\n",
    "import numpy as np"
   ]
  },
  {
   "cell_type": "markdown",
   "metadata": {},
   "source": [
    "In this notebook, we will work on the PyTorch [first tutorial](https://pytorch.org/tutorials/beginner/deep_learning_60min_blitz.html) without considering GPU related stuff since I don't have one. Mainly we will cover the following topics :\n",
    "\n",
    "* Tensors and Autograd\n",
    "* Defining a neural network, a loss, an optimizer\n",
    "* Defining and training a neural network on an image classification task"
   ]
  },
  {
   "cell_type": "markdown",
   "metadata": {},
   "source": [
    "# 1. [What is PyTorch ?](https://pytorch.org/tutorials/beginner/blitz/tensor_tutorial.html#sphx-glr-beginner-blitz-tensor-tutorial-py)\n",
    "### 1.1 Tensors\n",
    "\n",
    "Tensors are similar to numpy ndarrays, with the addition being that they can be used on GPUs to accelerate computing. They are multi dimensional matrices containing elements of a single data type. One can create tensors with different initalizations (zeros, random, empty tensor, from array value) or from another tensor (the source tensors properties will be reused unless they are overriden). "
   ]
  },
  {
   "cell_type": "code",
   "execution_count": 3,
   "metadata": {},
   "outputs": [
    {
     "name": "stdout",
     "output_type": "stream",
     "text": [
      "tensor([[9.8091e-45, 0.0000e+00],\n",
      "        [0.0000e+00, 0.0000e+00],\n",
      "        [0.0000e+00, 0.0000e+00]])\n",
      "tensor([[0, 0],\n",
      "        [0, 0],\n",
      "        [0, 0]])\n",
      "tensor([[1, 1],\n",
      "        [1, 1],\n",
      "        [1, 1]])\n",
      "tensor([[0.4124, 0.2444],\n",
      "        [0.8935, 0.9392],\n",
      "        [0.6305, 0.9676]])\n",
      "tensor([[-0.5739,  1.0469],\n",
      "        [ 0.8922, -0.6686],\n",
      "        [-1.2772, -0.5704]])\n"
     ]
    }
   ],
   "source": [
    "test_size = (3, 2)\n",
    "\n",
    "x = torch.empty(test_size) #empty initialization\n",
    "print(x)\n",
    "\n",
    "x = torch.zeros(test_size, dtype=torch.long) #zeros with specified dtype\n",
    "print(x)\n",
    "x = x.new_ones(test_size) #ones with dtype and device coming from the original tensor\n",
    "print(x)\n",
    "\n",
    "x = torch.rand(test_size) #random initialization\n",
    "print(x)\n",
    "x = torch.randn_like(x, dtype=torch.float) #random with the same size as the original tensor\n",
    "print(x)"
   ]
  },
  {
   "cell_type": "markdown",
   "metadata": {},
   "source": [
    "### 1.2 Operations\n",
    "\n",
    "Operations between tensors can be written in different ways. They also can be done in place or create a new result tensor."
   ]
  },
  {
   "cell_type": "code",
   "execution_count": 4,
   "metadata": {},
   "outputs": [
    {
     "name": "stdout",
     "output_type": "stream",
     "text": [
      "tensor([[-0.5046,  1.2974],\n",
      "        [ 1.4541, -0.0604],\n",
      "        [-1.2025, -0.1590]])\n",
      "tensor([[-1.0785,  2.3443],\n",
      "        [ 2.3463, -0.7289],\n",
      "        [-2.4797, -0.7295]])\n",
      "tensor([[-1.0785,  2.3443],\n",
      "        [ 2.3463, -0.7289],\n",
      "        [-2.4797, -0.7295]])\n",
      "tensor([[-1.0785,  2.3443],\n",
      "        [ 2.3463, -0.7289],\n",
      "        [-2.4797, -0.7295]])\n"
     ]
    }
   ],
   "source": [
    "y = torch.rand(test_size)\n",
    "\n",
    "#Any operation that mutates a tensor in-place is post-fixed with an _\n",
    "y.add_(x)\n",
    "print(y)\n",
    "\n",
    "#Provide result tensor\n",
    "result = torch.empty(test_size) \n",
    "torch.add(x,y, out = result)\n",
    "print(result)\n",
    "\n",
    "result = x + y #Basic syntax 1\n",
    "print(result)\n",
    "\n",
    "result = torch.add(x,y) #Basic syntax 2\n",
    "print(result)"
   ]
  },
  {
   "cell_type": "markdown",
   "metadata": {},
   "source": [
    "We can also reshape tensors and slice them as in numpy."
   ]
  },
  {
   "cell_type": "code",
   "execution_count": 6,
   "metadata": {},
   "outputs": [
    {
     "name": "stdout",
     "output_type": "stream",
     "text": [
      "tensor([ 1.4541, -0.0604])\n",
      "tensor([ 1.2974, -0.0604, -0.1590])\n",
      "tensor([-0.5046,  1.2974,  1.4541, -0.0604, -1.2025, -0.1590])\n",
      "tensor([[-0.5046,  1.2974,  1.4541],\n",
      "        [-0.0604, -1.2025, -0.1590]])\n"
     ]
    }
   ],
   "source": [
    "# Indexing\n",
    "print(y[1,:])\n",
    "print(y[:,1])\n",
    "\n",
    "# Reshaping\n",
    "z = y.view(6)\n",
    "print(z)\n",
    "z = y.view(-1, 3) #-1 infers the dimension\n",
    "print(z)"
   ]
  },
  {
   "cell_type": "markdown",
   "metadata": {},
   "source": [
    "# 2. [Autograd : automatic differentiation](https://pytorch.org/tutorials/beginner/blitz/autograd_tutorial.html)"
   ]
  },
  {
   "cell_type": "markdown",
   "metadata": {},
   "source": [
    "\"The autograd package provides automatic differentiation for all operations on Tensors. It is a define-by-run framework, which means that your backprop is defined by how your code is run, and that every single iteration can be different.\" There are several attributes of the tensor objects that we will examine here :\n",
    "\n",
    "* **.requires_grad** : \n",
    "\n",
    "A boolean that indicates if we want to start tracking computations on the tensor in order to be able to compute gradients; *if a tensor is a result of an operation applied on other tensors, it will have requires_grad = True if at least one of the original tensors as requires_grad = True*\n",
    "* **.grad_fn** : \n",
    "\n",
    "References a *Function* object which is the operation that created the tensor (if we don't track the gradient this will be None)\n",
    "* **.is_leaf** : \n",
    "\n",
    "A boolean indicating if the tensor is a leaf of the computational graph; a leaf variable is at the beginning of the graph so *it was not created by an autograd-tracked operation*. By default, gradients are only retained for leaf variables; non-leaf variables’ gradients are not retained to be inspected later. This was done by design, to save memory.\n",
    "\n",
    "* **.backward() function** : \n",
    "\n",
    "Computes the gradient of all variables (graph leaves with requires_grad=True) that contributed to the output variable (on which we call this function) using the chain rule. Keep in mind that it accumulates the gradients in the leaves, so we would need to clear them between the different passes on the data. \n",
    " \n",
    "  * By default this is expected to be called on the loss scalar so it takes no arguments : dloss/dx for all x leaves. \n",
    "  * If we call it on a non-scalar tensor, it means that we expect the final tensor to be somewhere \"upstream\" in the graph, so we need to provide the gradient of the output with respect to the non-scalar tensor as argument to the function. ([source](https://suzyahyah.github.io/calculus/pytorch/2018/07/01/Pytorch-Autograd-Backprop.html))\n",
    "\n",
    "\n",
    "A nice video explaining how the graph is constructed : https://www.youtube.com/watch?v=MswxJw-8PvE\n"
   ]
  },
  {
   "cell_type": "code",
   "execution_count": 10,
   "metadata": {},
   "outputs": [
    {
     "name": "stdout",
     "output_type": "stream",
     "text": [
      "--- Chain of operations on tensor x ---\n",
      "x.grad_fn = None\n",
      "x.requires_grad =  True\n",
      "x.is_leaf =  True\n",
      "---\n",
      "y.grad_fn = <AddBackward0 object at 0x7fac7ab75670>\n",
      "y.requires_grad =  True\n",
      "y.is_leaf =  False\n",
      "---\n",
      "z.grad_fn = <MulBackward0 object at 0x7fac7ab75ac0>\n",
      "z.requires_grad =  True\n",
      "z.is_leaf =  False\n",
      "---\n",
      "result1.grad_fn = <MeanBackward0 object at 0x7fac7ab8c040>\n",
      "result1.requires_grad =  True\n",
      "result1.is_leaf =  False\n",
      "---\n",
      "result2.grad_fn = <PowBackward0 object at 0x7fac7ab08520>\n",
      "result2.requires_grad =  True\n",
      "result2.is_leaf =  False\n",
      "---\n",
      "tensor([[0.2500, 0.2500],\n",
      "        [0.2500, 0.2500]])\n",
      "\n",
      "--- Gradients ---\n",
      "tensor([[3., 3.],\n",
      "        [3., 3.]]) None None None\n"
     ]
    }
   ],
   "source": [
    "print('--- Chain of operations on tensor x ---')\n",
    "\n",
    "x = torch.ones(2, 2, requires_grad=True)\n",
    "print(\"x.grad_fn =\", x.grad_fn)\n",
    "print(\"x.requires_grad = \", x.requires_grad)\n",
    "print(\"x.is_leaf = \", x.is_leaf)\n",
    "print('---')\n",
    "\n",
    "y = x + 2\n",
    "print(\"y.grad_fn =\", y.grad_fn)\n",
    "print(\"y.requires_grad = \", y.requires_grad)\n",
    "print(\"y.is_leaf = \", y.is_leaf)\n",
    "print('---')\n",
    "\n",
    "z = y * y * 2\n",
    "print(\"z.grad_fn =\", z.grad_fn)\n",
    "print(\"z.requires_grad = \", z.requires_grad)\n",
    "print(\"z.is_leaf = \", z.is_leaf)\n",
    "print('---')\n",
    "\n",
    "result1 = z.mean()\n",
    "print(\"result1.grad_fn =\", result1.grad_fn)\n",
    "print(\"result1.requires_grad = \", result1.requires_grad)\n",
    "print(\"result1.is_leaf = \", result1.is_leaf)\n",
    "print('---')\n",
    "\n",
    "result2 = z**2\n",
    "print(\"result2.grad_fn =\", result2.grad_fn)\n",
    "print(\"result2.requires_grad = \", result2.requires_grad)\n",
    "print(\"result2.is_leaf = \", result2.is_leaf)\n",
    "print('---')\n",
    "\n",
    "# result 1 is a scalar\n",
    "result1.backward()\n",
    "\n",
    "# result 2 is a tensor\n",
    "#result2.backward()\n",
    "\n",
    "print('\\n--- Gradients ---')\n",
    "print(x.grad, y.grad, z.grad, result1.grad)"
   ]
  },
  {
   "cell_type": "markdown",
   "metadata": {},
   "source": [
    "# 3. [Neural Networks](https://pytorch.org/tutorials/beginner/blitz/neural_networks_tutorial.html#neural-networks)"
   ]
  },
  {
   "cell_type": "markdown",
   "metadata": {},
   "source": [
    "Neural networks can be constructed using the torch.nn package. An nn.Module contains **layers** and a method **forward(input)** that returns the output. We just need to define the forward function, and **the backward function (where gradients are computed) is automatically defined using autograd**.\n",
    "\n",
    "torch.nn only supports mini-batches. The entire torch.nn package only supports inputs that are a mini-batch of samples, and not a single sample. For example, nn.Conv2d will take in a 4D Tensor of nSamples x nChannels x Height x Width."
   ]
  },
  {
   "cell_type": "markdown",
   "metadata": {},
   "source": [
    "### 3.1 Defining the network"
   ]
  },
  {
   "cell_type": "code",
   "execution_count": 24,
   "metadata": {},
   "outputs": [],
   "source": [
    "import torch\n",
    "import torch.nn as nn\n",
    "import torch.nn.functional as F\n",
    "\n",
    "# DEFINE THE MODEL\n",
    "class Net(nn.Module):\n",
    "\n",
    "    def __init__(self):\n",
    "        super(Net, self).__init__()\n",
    "        # 1 input image channel, 6 output channels, 3x3 square convolution\n",
    "        # kernel\n",
    "        self.conv1 = nn.Conv2d(1, 6, 3)\n",
    "        self.conv2 = nn.Conv2d(6, 16, 3)\n",
    "        # an affine operation: y = Wx + b\n",
    "        self.fc1 = nn.Linear(16 * 6 * 6, 120)  # 6*6 from image dimension\n",
    "        self.fc2 = nn.Linear(120, 84)\n",
    "        self.fc3 = nn.Linear(84, 10)\n",
    "\n",
    "    def forward(self, x):\n",
    "        # Max pooling over a (2, 2) window\n",
    "        x = F.max_pool2d(F.relu(self.conv1(x)), (2, 2))\n",
    "        # If the size is a square you can only specify a single number\n",
    "        x = F.max_pool2d(F.relu(self.conv2(x)), 2)\n",
    "        x = x.view(-1, self.num_flat_features(x))\n",
    "        x = F.relu(self.fc1(x))\n",
    "        x = F.relu(self.fc2(x))\n",
    "        x = self.fc3(x)\n",
    "        return x\n",
    "\n",
    "    def num_flat_features(self, x):\n",
    "        size = x.size()[1:]  # all dimensions except the batch dimension\n",
    "        num_features = 1\n",
    "        for s in size:\n",
    "            num_features *= s\n",
    "        return num_features"
   ]
  },
  {
   "cell_type": "code",
   "execution_count": 26,
   "metadata": {},
   "outputs": [
    {
     "name": "stdout",
     "output_type": "stream",
     "text": [
      "Net(\n",
      "  (conv1): Conv2d(1, 6, kernel_size=(3, 3), stride=(1, 1))\n",
      "  (conv2): Conv2d(6, 16, kernel_size=(3, 3), stride=(1, 1))\n",
      "  (fc1): Linear(in_features=576, out_features=120, bias=True)\n",
      "  (fc2): Linear(in_features=120, out_features=84, bias=True)\n",
      "  (fc3): Linear(in_features=84, out_features=10, bias=True)\n",
      ") \n",
      "----------\n",
      "Number of parameters : 10\n",
      "torch.Size([6, 1, 3, 3])\n"
     ]
    }
   ],
   "source": [
    "# VISUALIZE THE MODEL\n",
    "net = Net()\n",
    "print(net, \"\\n----------\")\n",
    "\n",
    "# VISUALIZE THE MODELS PARAMETERS\n",
    "params = list(net.parameters())\n",
    "print(\"Number of parameters :\", len(params))\n",
    "print(params[0].size())  # conv1's .weight"
   ]
  },
  {
   "cell_type": "code",
   "execution_count": 32,
   "metadata": {},
   "outputs": [
    {
     "name": "stdout",
     "output_type": "stream",
     "text": [
      "tensor([[-0.0113, -0.0041,  0.0987, -0.1152, -0.0512,  0.0947,  0.0882,  0.0905,\n",
      "         -0.0059, -0.0999]], grad_fn=<AddmmBackward>) \n",
      "----------\n",
      "torch.Size([1, 10])\n",
      "tensor([[[[-6.6722e-04, -3.4722e-05,  4.2376e-04,  ...,  0.0000e+00,\n",
      "            0.0000e+00,  0.0000e+00],\n",
      "          [ 1.0378e-03,  6.8287e-04, -1.7135e-04,  ..., -2.4649e-05,\n",
      "            0.0000e+00,  0.0000e+00],\n",
      "          [-2.0751e-03,  1.2216e-03,  9.3350e-04,  ..., -5.6978e-04,\n",
      "            0.0000e+00,  0.0000e+00],\n",
      "          ...,\n",
      "          [ 8.4188e-04,  2.5364e-04,  9.1200e-04,  ...,  5.0849e-04,\n",
      "            0.0000e+00,  0.0000e+00],\n",
      "          [ 0.0000e+00,  0.0000e+00,  0.0000e+00,  ...,  0.0000e+00,\n",
      "            0.0000e+00,  0.0000e+00],\n",
      "          [ 0.0000e+00,  0.0000e+00,  0.0000e+00,  ...,  0.0000e+00,\n",
      "            0.0000e+00,  0.0000e+00]]]])\n"
     ]
    }
   ],
   "source": [
    "# FEEDFORWARD COMPUTATION\n",
    "input = torch.randn((1, 1, 32, 32), requires_grad=True)\n",
    "# Apply net as a function\n",
    "out = net(input)\n",
    "print(out, \"\\n----------\")\n",
    "\n",
    "# BQCKWARD COMPUTATION\n",
    "#Zero the gradient buffers of all parameters\n",
    "net.zero_grad() \n",
    "# Out is not the loss so not scalar \n",
    "print(out.shape)\n",
    "out.backward(torch.randn(1, 10)) \n",
    "print(input.grad)"
   ]
  },
  {
   "cell_type": "markdown",
   "metadata": {},
   "source": [
    "### 3.2 Loss function\n",
    "\n",
    "A loss function takes the (output, target) pair of inputs, and computes a value that estimates how far away the output is from the target."
   ]
  },
  {
   "cell_type": "code",
   "execution_count": 75,
   "metadata": {},
   "outputs": [],
   "source": [
    "output = net(input)\n",
    "target = torch.randn(10)  # a dummy target, for example\n",
    "target = target.view(1, -1)  # make it the same shape as output\n",
    "criterion = nn.MSELoss()"
   ]
  },
  {
   "cell_type": "code",
   "execution_count": 76,
   "metadata": {},
   "outputs": [
    {
     "name": "stdout",
     "output_type": "stream",
     "text": [
      "tensor(1.2857, grad_fn=<MseLossBackward>)\n"
     ]
    }
   ],
   "source": [
    "loss = criterion(output, target)\n",
    "print(loss)"
   ]
  },
  {
   "cell_type": "code",
   "execution_count": 77,
   "metadata": {},
   "outputs": [
    {
     "name": "stdout",
     "output_type": "stream",
     "text": [
      "<MseLossBackward object at 0x000001EB38BCA550>\n",
      "<AddmmBackward object at 0x000001EB38BCAE80>\n",
      "<AccumulateGrad object at 0x000001EB38BCA550>\n"
     ]
    }
   ],
   "source": [
    "# GRAPH COMPUTATIONS\n",
    "print(loss.grad_fn)  # MSELoss\n",
    "print(loss.grad_fn.next_functions[0][0])  # Linear\n",
    "print(loss.grad_fn.next_functions[0][0].next_functions[0][0])  # ReLU"
   ]
  },
  {
   "cell_type": "markdown",
   "metadata": {},
   "source": [
    "### 3.3 Backpropagation\n",
    "\n",
    "To backpropagate the error all we have to do is to loss.backward(). We need to clear the existing gradients though, else gradients will be accumulated to existing gradients."
   ]
  },
  {
   "cell_type": "code",
   "execution_count": 79,
   "metadata": {},
   "outputs": [
    {
     "name": "stdout",
     "output_type": "stream",
     "text": [
      "conv1.bias.grad before backward\n",
      "tensor([0., 0., 0., 0., 0., 0.])\n",
      "conv1.bias.grad after backward\n",
      "tensor([-0.0226,  0.0208,  0.0057,  0.0020, -0.0262, -0.0281])\n"
     ]
    }
   ],
   "source": [
    "net.zero_grad()     # zeroes the gradient buffers of all parameters\n",
    "\n",
    "print('conv1.bias.grad before backward')\n",
    "print(net.conv1.bias.grad)\n",
    "\n",
    "# Option 1\n",
    "loss.backward(retain_graph=True)\n",
    "\n",
    "print('conv1.bias.grad after backward')\n",
    "print(net.conv1.bias.grad)"
   ]
  },
  {
   "cell_type": "code",
   "execution_count": 80,
   "metadata": {},
   "outputs": [],
   "source": [
    "# WEIGHT UPDATE\n",
    "learning_rate = 0.01\n",
    "\n",
    "for f in net.parameters():\n",
    "    f.data.sub_(f.grad.data * learning_rate) #in place subtract"
   ]
  },
  {
   "cell_type": "code",
   "execution_count": 81,
   "metadata": {},
   "outputs": [],
   "source": [
    "# USE TORCH.OPTIM FOR EASE AND ACCESS TO OTHER UPDATE RULES\n",
    "import torch.optim as optim\n",
    "\n",
    "# create your optimizer\n",
    "optimizer = optim.SGD(net.parameters(), lr=0.01)\n",
    "\n",
    "# in your training loop:\n",
    "optimizer.zero_grad()   # zero the gradient buffers\n",
    "\n",
    "output = net(input)\n",
    "loss = criterion(output, target)\n",
    "\n",
    "# Back propagate\n",
    "loss.backward()\n",
    "\n",
    "# Does the update\n",
    "optimizer.step()   "
   ]
  },
  {
   "cell_type": "markdown",
   "metadata": {},
   "source": [
    "# 4. [Training a classifier](https://pytorch.org/tutorials/beginner/blitz/cifar10_tutorial.html)"
   ]
  },
  {
   "cell_type": "markdown",
   "metadata": {},
   "source": [
    "\"Specifically for vision, we have created a package called torchvision, that has data loaders for common datasets such as Imagenet, CIFAR10, MNIST, etc. and data transformers for images, viz., torchvision.datasets and torch.utils.data.DataLoader.\"\n",
    "\n",
    "Here we will use the CIFAR10 dataset. It has the classes: ‘airplane’, ‘automobile’, ‘bird’, ‘cat’, ‘deer’, ‘dog’, ‘frog’, ‘horse’, ‘ship’, ‘truck’. The images in CIFAR-10 are of size 3x32x32, i.e. 3-channel color images of 32x32 pixels in size."
   ]
  },
  {
   "cell_type": "markdown",
   "metadata": {},
   "source": [
    "### 4.1 Loading and transforming the data"
   ]
  },
  {
   "cell_type": "code",
   "execution_count": 83,
   "metadata": {
    "scrolled": true
   },
   "outputs": [
    {
     "name": "stdout",
     "output_type": "stream",
     "text": [
      "Files already downloaded and verified\n",
      "Files already downloaded and verified\n"
     ]
    }
   ],
   "source": [
    "# CREATE DATA TRANSFORMATION PIPELINE\n",
    "transform = transforms.Compose(\n",
    "    [transforms.ToTensor(),\n",
    "     transforms.Normalize((0.5, 0.5, 0.5), (0.5, 0.5, 0.5))])\n",
    "\n",
    "# LOAD TRAIN DATA\n",
    "trainset = torchvision.datasets.CIFAR10(root='./data', train=True,\n",
    "                                        download=True, transform=transform)\n",
    "trainloader = torch.utils.data.DataLoader(trainset, batch_size=4,\n",
    "                                          shuffle=True, num_workers=2)\n",
    "\n",
    "# LOAD TEST DATA\n",
    "testset = torchvision.datasets.CIFAR10(root='./data', train=False,\n",
    "                                       download=True, transform=transform)\n",
    "testloader = torch.utils.data.DataLoader(testset, batch_size=4,\n",
    "                                         shuffle=False, num_workers=2)\n",
    "\n",
    "classes = ('plane', 'car', 'bird', 'cat',\n",
    "           'deer', 'dog', 'frog', 'horse', 'ship', 'truck')"
   ]
  },
  {
   "cell_type": "code",
   "execution_count": 84,
   "metadata": {},
   "outputs": [
    {
     "data": {
      "image/png": "[encoded data removed]",
      "text/plain": [
       "<Figure size 432x288 with 1 Axes>"
      ]
     },
     "metadata": {
      "needs_background": "light"
     },
     "output_type": "display_data"
    },
    {
     "name": "stdout",
     "output_type": "stream",
     "text": [
      "  car  ship plane  frog\n"
     ]
    }
   ],
   "source": [
    "# functions to show an image\n",
    "def imshow(img):\n",
    "    img = img / 2 + 0.5     # unnormalize\n",
    "    npimg = img.numpy()\n",
    "    plt.imshow(np.transpose(npimg, (1, 2, 0)))\n",
    "    plt.show()\n",
    "\n",
    "\n",
    "# get some random training images\n",
    "dataiter = iter(trainloader)\n",
    "images, labels = dataiter.next()\n",
    "\n",
    "# show images\n",
    "imshow(torchvision.utils.make_grid(images))\n",
    "\n",
    "# print labels\n",
    "print(' '.join('%5s' % classes[labels[j]] for j in range(4)))"
   ]
  },
  {
   "cell_type": "markdown",
   "metadata": {},
   "source": [
    "### 4.2 Creating and training the network\n",
    "\n",
    "Let us reuse the network from section 3 by modifying it a bit for this data."
   ]
  },
  {
   "cell_type": "code",
   "execution_count": 85,
   "metadata": {},
   "outputs": [
    {
     "name": "stdout",
     "output_type": "stream",
     "text": [
      "[1,  2000] loss: 2.214\n",
      "[1,  4000] loss: 1.886\n",
      "[1,  6000] loss: 1.710\n",
      "[1,  8000] loss: 1.615\n",
      "[1, 10000] loss: 1.541\n",
      "[1, 12000] loss: 1.499\n",
      "[2,  2000] loss: 1.424\n",
      "[2,  4000] loss: 1.392\n",
      "[2,  6000] loss: 1.374\n",
      "[2,  8000] loss: 1.343\n",
      "[2, 10000] loss: 1.308\n",
      "[2, 12000] loss: 1.306\n",
      "Finished Training\n"
     ]
    }
   ],
   "source": [
    "# 1. Define network\n",
    "class Net(nn.Module):\n",
    "    def __init__(self):\n",
    "        super(Net, self).__init__()\n",
    "        self.conv1 = nn.Conv2d(3, 6, 5)\n",
    "        self.pool = nn.MaxPool2d(2, 2)\n",
    "        self.conv2 = nn.Conv2d(6, 16, 5)\n",
    "        self.fc1 = nn.Linear(16 * 5 * 5, 120)\n",
    "        self.fc2 = nn.Linear(120, 84)\n",
    "        self.fc3 = nn.Linear(84, 10)\n",
    "\n",
    "    def forward(self, x):\n",
    "        x = self.pool(F.relu(self.conv1(x)))\n",
    "        x = self.pool(F.relu(self.conv2(x)))\n",
    "        x = x.view(-1, 16 * 5 * 5)\n",
    "        x = F.relu(self.fc1(x))\n",
    "        x = F.relu(self.fc2(x))\n",
    "        x = self.fc3(x)\n",
    "        return x\n",
    "\n",
    "net = Net()\n",
    "\n",
    "# 2. Define loss and optimizer \n",
    "criterion = nn.CrossEntropyLoss()\n",
    "optimizer = optim.SGD(net.parameters(), lr=0.001, momentum=0.9)\n",
    "\n",
    "# 3. Training \n",
    "for epoch in range(2):\n",
    "\n",
    "    running_loss = 0.0\n",
    "    for i, data in enumerate(trainloader, 0):\n",
    "        \n",
    "        # get the inputs; data is a list of [inputs, labels]\n",
    "        inputs, labels = data\n",
    "\n",
    "        # zero the parameter gradients\n",
    "        optimizer.zero_grad()\n",
    "\n",
    "        # forward + backward + optimize\n",
    "        outputs = net(inputs)\n",
    "        loss = criterion(outputs, labels)\n",
    "        loss.backward()\n",
    "        optimizer.step()\n",
    "\n",
    "        # print statistics\n",
    "        running_loss += loss.item()\n",
    "        if i % 2000 == 1999:    # print every 2000 mini-batches\n",
    "            print('[%d, %5d] loss: %.3f' %\n",
    "                  (epoch + 1, i + 1, running_loss / 2000))\n",
    "            running_loss = 0.0\n",
    "\n",
    "print('Finished Training')\n",
    "\n",
    "# 4. Save model\n",
    "PATH = './models/cifar_net.pth'\n",
    "torch.save(net.state_dict(), PATH)"
   ]
  },
  {
   "cell_type": "markdown",
   "metadata": {},
   "source": [
    "### 4.3 Testing the network on the test set\n",
    "\n",
    "#### 4.3.1 Testing on some examples"
   ]
  },
  {
   "cell_type": "code",
   "execution_count": 91,
   "metadata": {},
   "outputs": [
    {
     "data": {
      "image/png": "[encoded data removed]",
      "text/plain": [
       "<Figure size 432x288 with 1 Axes>"
      ]
     },
     "metadata": {
      "needs_background": "light"
     },
     "output_type": "display_data"
    },
    {
     "name": "stdout",
     "output_type": "stream",
     "text": [
      "GroundTruth:    cat  ship  ship plane\n",
      "Predicted:    cat  ship  ship  ship\n"
     ]
    }
   ],
   "source": [
    "dataiter = iter(testloader)\n",
    "images, labels = dataiter.next()\n",
    "\n",
    "# print images\n",
    "imshow(torchvision.utils.make_grid(images))\n",
    "print('GroundTruth: ', ' '.join('%5s' % classes[labels[j]] for j in range(4)))\n",
    "\n",
    "# 1. Reload model \n",
    "net = Net()\n",
    "net.load_state_dict(torch.load(PATH))\n",
    "\n",
    "# 2. Get outputs \n",
    "outputs = net(images)\n",
    "_, predicted = torch.max(outputs, 1)\n",
    "print('Predicted: ', ' '.join('%5s' % classes[predicted[j]] for j in range(4)))"
   ]
  },
  {
   "cell_type": "markdown",
   "metadata": {},
   "source": [
    "#### 4.3.2 Testing on the whole test set"
   ]
  },
  {
   "cell_type": "code",
   "execution_count": 89,
   "metadata": {},
   "outputs": [
    {
     "name": "stdout",
     "output_type": "stream",
     "text": [
      "Accuracy of the network on the 10000 test images: 56 %\n"
     ]
    }
   ],
   "source": [
    "correct = 0\n",
    "total = 0\n",
    "\n",
    "with torch.no_grad():\n",
    "    for data in testloader:\n",
    "        images, labels = data\n",
    "        outputs = net(images)\n",
    "        _, predicted = torch.max(outputs.data, 1)\n",
    "        total += labels.size(0)\n",
    "        correct += (predicted == labels).sum().item()\n",
    "\n",
    "print('Accuracy of the network on the 10000 test images: %d %%' % (100 * correct / total))"
   ]
  },
  {
   "cell_type": "markdown",
   "metadata": {},
   "source": [
    "#### 4.3.3 See performance per class"
   ]
  },
  {
   "cell_type": "code",
   "execution_count": 92,
   "metadata": {},
   "outputs": [
    {
     "name": "stdout",
     "output_type": "stream",
     "text": [
      "Accuracy of plane : 69 %\n",
      "Accuracy of   car : 73 %\n",
      "Accuracy of  bird : 32 %\n",
      "Accuracy of   cat : 27 %\n",
      "Accuracy of  deer : 54 %\n",
      "Accuracy of   dog : 47 %\n",
      "Accuracy of  frog : 62 %\n",
      "Accuracy of horse : 63 %\n",
      "Accuracy of  ship : 73 %\n",
      "Accuracy of truck : 58 %\n"
     ]
    }
   ],
   "source": [
    "class_correct = list(0. for i in range(10))\n",
    "class_total = list(0. for i in range(10))\n",
    "\n",
    "with torch.no_grad():\n",
    "    for data in testloader:\n",
    "        images, labels = data\n",
    "        outputs = net(images)\n",
    "        _, predicted = torch.max(outputs, 1)\n",
    "        c = (predicted == labels).squeeze()\n",
    "        for i in range(4):\n",
    "            label = labels[i]\n",
    "            class_correct[label] += c[i].item()\n",
    "            class_total[label] += 1\n",
    "\n",
    "\n",
    "for i in range(10):\n",
    "    print('Accuracy of %5s : %2d %%' % (\n",
    "        classes[i], 100 * class_correct[i] / class_total[i]))"
   ]
  }
 ],
 "metadata": {
  "kernelspec": {
   "display_name": "Python 3 (ipykernel)",
   "language": "python",
   "name": "python3"
  },
  "language_info": {
   "codemirror_mode": {
    "name": "ipython",
    "version": 3
   },
   "file_extension": ".py",
   "mimetype": "text/x-python",
   "name": "python",
   "nbconvert_exporter": "python",
   "pygments_lexer": "ipython3",
   "version": "3.8.12"
  }
 },
 "nbformat": 4,
 "nbformat_minor": 2
}
