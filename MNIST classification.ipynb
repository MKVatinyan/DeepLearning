{
 "cells": [
  {
   "cell_type": "code",
   "execution_count": 17,
   "id": "e22bfd56",
   "metadata": {},
   "outputs": [],
   "source": [
    "from __future__ import print_function\n",
    "import torch\n",
    "import torchvision\n",
    "import torchvision.transforms as transforms\n",
    "import matplotlib.pyplot as plt\n",
    "import numpy as np\n",
    "\n",
    "SCALED_MEAN = 0.1307\n",
    "SCALED_STD = 0.3081"
   ]
  },
  {
   "cell_type": "code",
   "execution_count": 18,
   "id": "d617e77a",
   "metadata": {},
   "outputs": [],
   "source": [
    "def load_mnist_data(batch_size = 4, train = True, shuffle = True):\n",
    "    # Create data transformation pipeline\n",
    "    transform = transforms.Compose([\n",
    "        transforms.ToTensor(), # Tranform image to tensor, already scales data between 0 and 1\n",
    "        transforms.Normalize((SCALED_MEAN,), (SCALED_STD,)) # Normalize for range to by mean std of scaled data\n",
    "    ])\n",
    "    \n",
    "    dataset = torchvision.datasets.MNIST(root='./data', train=train, download=True, transform=transform)\n",
    "    dataloader = torch.utils.data.DataLoader(dataset, batch_size=batch_size, shuffle=shuffle, num_workers=2)\n",
    "    return dataset, dataloader\n",
    "\n",
    "# functions to show an image\n",
    "def imshow(img):\n",
    "    img = img * SCALED_STD + SCALED_MEAN # unnormalize\n",
    "    npimg = img.numpy()\n",
    "    plt.imshow(np.transpose(npimg, (1, 2, 0)))\n",
    "    plt.show()"
   ]
  },
  {
   "cell_type": "markdown",
   "id": "b5c598a5",
   "metadata": {},
   "source": [
    "# MNIST classification\n",
    "\n",
    "## 1. Load data"
   ]
  },
  {
   "cell_type": "code",
   "execution_count": 21,
   "id": "63c8ebb1",
   "metadata": {},
   "outputs": [
    {
     "data": {
      "image/png": "[encoded data removed]",
      "text/plain": [
       "<Figure size 432x288 with 1 Axes>"
      ]
     },
     "metadata": {
      "needs_background": "light"
     },
     "output_type": "display_data"
    },
    {
     "name": "stdout",
     "output_type": "stream",
     "text": [
      "    4,    2,    0,    1\n"
     ]
    }
   ],
   "source": [
    "# MNIST labels\n",
    "classes = (0, 1, 2, 3, 4, 5, 6, 7, 8, 9)\n",
    "\n",
    "# Load data\n",
    "trainset, trainloader = load_mnist_data(batch_size = 4, train = True, shuffle = True)\n",
    "testset, testloader = load_mnist_data(batch_size = 4, train = False, shuffle = False)\n",
    "\n",
    "# get some random training images\n",
    "dataiter = iter(trainloader)\n",
    "images, labels = dataiter.next()\n",
    "\n",
    "# show images\n",
    "imshow(torchvision.utils.make_grid(images))\n",
    "\n",
    "# 4 elements since batch size = 4\n",
    "print(','.join('%5s' % classes[labels[j]] for j in range(4)))"
   ]
  },
  {
   "cell_type": "markdown",
   "id": "5a7ff51c",
   "metadata": {},
   "source": [
    "## 2. Create model"
   ]
  },
  {
   "cell_type": "code",
   "execution_count": null,
   "id": "48555905",
   "metadata": {},
   "outputs": [],
   "source": []
  }
 ],
 "metadata": {
  "kernelspec": {
   "display_name": "Python 3 (ipykernel)",
   "language": "python",
   "name": "python3"
  },
  "language_info": {
   "codemirror_mode": {
    "name": "ipython",
    "version": 3
   },
   "file_extension": ".py",
   "mimetype": "text/x-python",
   "name": "python",
   "nbconvert_exporter": "python",
   "pygments_lexer": "ipython3",
   "version": "3.8.12"
  }
 },
 "nbformat": 4,
 "nbformat_minor": 5
}
